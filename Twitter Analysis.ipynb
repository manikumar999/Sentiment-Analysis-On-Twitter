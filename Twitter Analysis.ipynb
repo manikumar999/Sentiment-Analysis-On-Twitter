{
 "cells": [
  {
   "cell_type": "markdown",
   "metadata": {},
   "source": [
    "# importing data from Twitter"
   ]
  },
  {
   "cell_type": "code",
   "execution_count": 1,
   "metadata": {},
   "outputs": [
    {
     "name": "stderr",
     "output_type": "stream",
     "text": [
      "INFO: {'User-Agent': 'Mozilla/5.0 (Windows NT 5.2; RW; rv:7.0a1) Gecko/20091211 SeaMonkey/9.23a1pre'}\n"
     ]
    }
   ],
   "source": [
    "from twitterscraper import query_tweets"
   ]
  },
  {
   "cell_type": "code",
   "execution_count": 2,
   "metadata": {},
   "outputs": [],
   "source": [
    "import datetime as dt\n",
    "import pandas as pd"
   ]
  },
  {
   "cell_type": "code",
   "execution_count": 3,
   "metadata": {},
   "outputs": [],
   "source": [
    "begin_date=dt.date(2020,3,20)\n",
    "end_date=dt.date(2020,4,6)"
   ]
  },
  {
   "cell_type": "code",
   "execution_count": 4,
   "metadata": {},
   "outputs": [],
   "source": [
    "limit=5000\n",
    "lang=\"english\""
   ]
  },
  {
   "cell_type": "code",
   "execution_count": 5,
   "metadata": {},
   "outputs": [
    {
     "name": "stderr",
     "output_type": "stream",
     "text": [
      "INFO: queries: ['PawanKlayan since:2020-03-20 until:2020-03-21', 'PawanKlayan since:2020-03-21 until:2020-03-22', 'PawanKlayan since:2020-03-22 until:2020-03-23', 'PawanKlayan since:2020-03-23 until:2020-03-24', 'PawanKlayan since:2020-03-24 until:2020-03-25', 'PawanKlayan since:2020-03-25 until:2020-03-26', 'PawanKlayan since:2020-03-26 until:2020-03-27', 'PawanKlayan since:2020-03-27 until:2020-03-28', 'PawanKlayan since:2020-03-28 until:2020-03-29', 'PawanKlayan since:2020-03-29 until:2020-03-30', 'PawanKlayan since:2020-03-30 until:2020-03-31', 'PawanKlayan since:2020-03-31 until:2020-04-01', 'PawanKlayan since:2020-04-01 until:2020-04-02', 'PawanKlayan since:2020-04-02 until:2020-04-03', 'PawanKlayan since:2020-04-03 until:2020-04-04', 'PawanKlayan since:2020-04-04 until:2020-04-05', 'PawanKlayan since:2020-04-05 until:2020-04-06']\n",
      "INFO: Got 303 tweets (303 new).\n",
      "INFO: Got 609 tweets (306 new).\n",
      "INFO: Got 910 tweets (301 new).\n",
      "INFO: Got 1215 tweets (305 new).\n",
      "INFO: Got 1521 tweets (306 new).\n",
      "INFO: Got 1824 tweets (303 new).\n",
      "INFO: Got 2128 tweets (304 new).\n",
      "INFO: Got 2423 tweets (295 new).\n",
      "INFO: Got 2723 tweets (300 new).\n",
      "INFO: Got 3023 tweets (300 new).\n",
      "INFO: Got 3328 tweets (305 new).\n",
      "INFO: Got 3640 tweets (312 new).\n",
      "INFO: Got 3948 tweets (308 new).\n",
      "INFO: Got 4254 tweets (306 new).\n",
      "INFO: Got 4560 tweets (306 new).\n",
      "INFO: Got 4863 tweets (303 new).\n",
      "INFO: Got 5174 tweets (311 new).\n"
     ]
    }
   ],
   "source": [
    "#user=realDonaldTrump\n",
    "\n",
    "tweets=query_tweets(\"PawanKlayan\",begindate=begin_date,enddate=end_date,limit=limit,lang=lang)"
   ]
  },
  {
   "cell_type": "code",
   "execution_count": 6,
   "metadata": {},
   "outputs": [],
   "source": [
    "data=pd.DataFrame(t.__dict__ for t in tweets)"
   ]
  },
  {
   "cell_type": "code",
   "execution_count": 7,
   "metadata": {},
   "outputs": [],
   "source": [
    "data.to_csv(\"twitter_PSPK_py.csv\")"
   ]
  },
  {
   "cell_type": "code",
   "execution_count": null,
   "metadata": {},
   "outputs": [],
   "source": []
  }
 ],
 "metadata": {
  "kernelspec": {
   "display_name": "Python 3",
   "language": "python",
   "name": "python3"
  },
  "language_info": {
   "codemirror_mode": {
    "name": "ipython",
    "version": 3
   },
   "file_extension": ".py",
   "mimetype": "text/x-python",
   "name": "python",
   "nbconvert_exporter": "python",
   "pygments_lexer": "ipython3",
   "version": "3.7.6"
  }
 },
 "nbformat": 4,
 "nbformat_minor": 4
}
